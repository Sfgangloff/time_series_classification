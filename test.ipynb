{
 "cells": [
  {
   "cell_type": "code",
   "execution_count": 9,
   "metadata": {},
   "outputs": [
    {
     "name": "stdout",
     "output_type": "stream",
     "text": [
      "  Group  Value      Mean\n",
      "0     A      1  2.000000\n",
      "1     A      2  2.000000\n",
      "2     B      3  4.333333\n",
      "3     B      4  4.333333\n",
      "4     A      3  2.000000\n",
      "5     B      6  4.333333\n"
     ]
    }
   ],
   "source": [
    "import pandas as pd\n",
    "\n",
    "# Example DataFrame\n",
    "data = {\n",
    "    'Group': ['A', 'A', 'B', 'B', 'A', 'B'],\n",
    "    'Value': [1, 2, 3, 4, 3, 6]\n",
    "}\n",
    "\n",
    "df = pd.DataFrame(data)\n",
    "\n",
    "# Group by 'Group' column and compute mean of 'Value' within each group\n",
    "group_means = df.groupby('Group')['Value'].transform('mean')\n",
    "\n",
    "# Add the mean values as a new column\n",
    "df['Mean'] = group_means\n",
    "\n",
    "print(df)"
   ]
  }
 ],
 "metadata": {
  "kernelspec": {
   "display_name": "env",
   "language": "python",
   "name": "python3"
  },
  "language_info": {
   "codemirror_mode": {
    "name": "ipython",
    "version": 3
   },
   "file_extension": ".py",
   "mimetype": "text/x-python",
   "name": "python",
   "nbconvert_exporter": "python",
   "pygments_lexer": "ipython3",
   "version": "3.10.0"
  }
 },
 "nbformat": 4,
 "nbformat_minor": 2
}
