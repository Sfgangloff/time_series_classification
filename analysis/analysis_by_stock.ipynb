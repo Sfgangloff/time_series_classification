{
 "cells": [
  {
   "cell_type": "code",
   "execution_count": 1,
   "metadata": {},
   "outputs": [],
   "source": [
    "from load_df import load_df\n",
    "dfy = load_df(\"data/y_train.csv\")"
   ]
  },
  {
   "cell_type": "code",
   "execution_count": 2,
   "metadata": {},
   "outputs": [],
   "source": [
    "obs_by_cat = {}\n",
    "for cat in dfy[\"eqt_code_cat\"].unique():\n",
    "    obs_by_cat[cat] = dfy[dfy[\"eqt_code_cat\"]==cat][\"obs_id\"].unique()"
   ]
  },
  {
   "cell_type": "code",
   "execution_count": 3,
   "metadata": {},
   "outputs": [
    {
     "name": "stdout",
     "output_type": "stream",
     "text": [
      "[     2      4     27 ... 160691 160745 160786]\n"
     ]
    }
   ],
   "source": [
    "print(obs_by_cat[0])"
   ]
  },
  {
   "cell_type": "markdown",
   "metadata": {},
   "source": [
    "## Stock 0"
   ]
  },
  {
   "cell_type": "code",
   "execution_count": 4,
   "metadata": {},
   "outputs": [],
   "source": [
    "dfx = load_df(\"data/x_train.csv\")"
   ]
  },
  {
   "cell_type": "code",
   "execution_count": 5,
   "metadata": {},
   "outputs": [
    {
     "data": {
      "text/html": [
       "<div>\n",
       "<style scoped>\n",
       "    .dataframe tbody tr th:only-of-type {\n",
       "        vertical-align: middle;\n",
       "    }\n",
       "\n",
       "    .dataframe tbody tr th {\n",
       "        vertical-align: top;\n",
       "    }\n",
       "\n",
       "    .dataframe thead th {\n",
       "        text-align: right;\n",
       "    }\n",
       "</style>\n",
       "<table border=\"1\" class=\"dataframe\">\n",
       "  <thead>\n",
       "    <tr style=\"text-align: right;\">\n",
       "      <th></th>\n",
       "      <th>obs_id</th>\n",
       "      <th>venue</th>\n",
       "      <th>order_id</th>\n",
       "      <th>action</th>\n",
       "      <th>side</th>\n",
       "      <th>price</th>\n",
       "      <th>bid</th>\n",
       "      <th>ask</th>\n",
       "      <th>bid_size</th>\n",
       "      <th>ask_size</th>\n",
       "      <th>trade</th>\n",
       "      <th>flux</th>\n",
       "    </tr>\n",
       "  </thead>\n",
       "  <tbody>\n",
       "    <tr>\n",
       "      <th>0</th>\n",
       "      <td>0</td>\n",
       "      <td>4</td>\n",
       "      <td>0</td>\n",
       "      <td>A</td>\n",
       "      <td>A</td>\n",
       "      <td>0.30</td>\n",
       "      <td>0.00</td>\n",
       "      <td>0.01</td>\n",
       "      <td>100</td>\n",
       "      <td>1</td>\n",
       "      <td>False</td>\n",
       "      <td>100</td>\n",
       "    </tr>\n",
       "    <tr>\n",
       "      <th>1</th>\n",
       "      <td>0</td>\n",
       "      <td>4</td>\n",
       "      <td>1</td>\n",
       "      <td>A</td>\n",
       "      <td>B</td>\n",
       "      <td>-0.17</td>\n",
       "      <td>0.00</td>\n",
       "      <td>0.01</td>\n",
       "      <td>100</td>\n",
       "      <td>1</td>\n",
       "      <td>False</td>\n",
       "      <td>100</td>\n",
       "    </tr>\n",
       "    <tr>\n",
       "      <th>2</th>\n",
       "      <td>0</td>\n",
       "      <td>4</td>\n",
       "      <td>2</td>\n",
       "      <td>D</td>\n",
       "      <td>A</td>\n",
       "      <td>0.28</td>\n",
       "      <td>0.00</td>\n",
       "      <td>0.01</td>\n",
       "      <td>100</td>\n",
       "      <td>1</td>\n",
       "      <td>False</td>\n",
       "      <td>-100</td>\n",
       "    </tr>\n",
       "    <tr>\n",
       "      <th>3</th>\n",
       "      <td>0</td>\n",
       "      <td>4</td>\n",
       "      <td>3</td>\n",
       "      <td>A</td>\n",
       "      <td>A</td>\n",
       "      <td>0.30</td>\n",
       "      <td>0.00</td>\n",
       "      <td>0.01</td>\n",
       "      <td>100</td>\n",
       "      <td>1</td>\n",
       "      <td>False</td>\n",
       "      <td>100</td>\n",
       "    </tr>\n",
       "    <tr>\n",
       "      <th>4</th>\n",
       "      <td>0</td>\n",
       "      <td>4</td>\n",
       "      <td>4</td>\n",
       "      <td>D</td>\n",
       "      <td>A</td>\n",
       "      <td>0.37</td>\n",
       "      <td>0.00</td>\n",
       "      <td>0.01</td>\n",
       "      <td>100</td>\n",
       "      <td>1</td>\n",
       "      <td>False</td>\n",
       "      <td>-100</td>\n",
       "    </tr>\n",
       "    <tr>\n",
       "      <th>...</th>\n",
       "      <td>...</td>\n",
       "      <td>...</td>\n",
       "      <td>...</td>\n",
       "      <td>...</td>\n",
       "      <td>...</td>\n",
       "      <td>...</td>\n",
       "      <td>...</td>\n",
       "      <td>...</td>\n",
       "      <td>...</td>\n",
       "      <td>...</td>\n",
       "      <td>...</td>\n",
       "      <td>...</td>\n",
       "    </tr>\n",
       "    <tr>\n",
       "      <th>16079995</th>\n",
       "      <td>160799</td>\n",
       "      <td>4</td>\n",
       "      <td>61</td>\n",
       "      <td>D</td>\n",
       "      <td>A</td>\n",
       "      <td>1.32</td>\n",
       "      <td>0.01</td>\n",
       "      <td>0.06</td>\n",
       "      <td>735</td>\n",
       "      <td>261</td>\n",
       "      <td>False</td>\n",
       "      <td>-100</td>\n",
       "    </tr>\n",
       "    <tr>\n",
       "      <th>16079996</th>\n",
       "      <td>160799</td>\n",
       "      <td>0</td>\n",
       "      <td>70</td>\n",
       "      <td>A</td>\n",
       "      <td>A</td>\n",
       "      <td>0.06</td>\n",
       "      <td>0.01</td>\n",
       "      <td>0.06</td>\n",
       "      <td>735</td>\n",
       "      <td>361</td>\n",
       "      <td>False</td>\n",
       "      <td>100</td>\n",
       "    </tr>\n",
       "    <tr>\n",
       "      <th>16079997</th>\n",
       "      <td>160799</td>\n",
       "      <td>4</td>\n",
       "      <td>71</td>\n",
       "      <td>A</td>\n",
       "      <td>A</td>\n",
       "      <td>1.26</td>\n",
       "      <td>0.01</td>\n",
       "      <td>0.06</td>\n",
       "      <td>735</td>\n",
       "      <td>361</td>\n",
       "      <td>False</td>\n",
       "      <td>100</td>\n",
       "    </tr>\n",
       "    <tr>\n",
       "      <th>16079998</th>\n",
       "      <td>160799</td>\n",
       "      <td>4</td>\n",
       "      <td>72</td>\n",
       "      <td>A</td>\n",
       "      <td>A</td>\n",
       "      <td>1.26</td>\n",
       "      <td>0.01</td>\n",
       "      <td>0.06</td>\n",
       "      <td>735</td>\n",
       "      <td>361</td>\n",
       "      <td>False</td>\n",
       "      <td>100</td>\n",
       "    </tr>\n",
       "    <tr>\n",
       "      <th>16079999</th>\n",
       "      <td>160799</td>\n",
       "      <td>4</td>\n",
       "      <td>73</td>\n",
       "      <td>A</td>\n",
       "      <td>B</td>\n",
       "      <td>0.00</td>\n",
       "      <td>0.01</td>\n",
       "      <td>0.06</td>\n",
       "      <td>635</td>\n",
       "      <td>361</td>\n",
       "      <td>False</td>\n",
       "      <td>1</td>\n",
       "    </tr>\n",
       "  </tbody>\n",
       "</table>\n",
       "<p>16080000 rows × 12 columns</p>\n",
       "</div>"
      ],
      "text/plain": [
       "          obs_id  venue  order_id action side  price   bid   ask  bid_size  \\\n",
       "0              0      4         0      A    A   0.30  0.00  0.01       100   \n",
       "1              0      4         1      A    B  -0.17  0.00  0.01       100   \n",
       "2              0      4         2      D    A   0.28  0.00  0.01       100   \n",
       "3              0      4         3      A    A   0.30  0.00  0.01       100   \n",
       "4              0      4         4      D    A   0.37  0.00  0.01       100   \n",
       "...          ...    ...       ...    ...  ...    ...   ...   ...       ...   \n",
       "16079995  160799      4        61      D    A   1.32  0.01  0.06       735   \n",
       "16079996  160799      0        70      A    A   0.06  0.01  0.06       735   \n",
       "16079997  160799      4        71      A    A   1.26  0.01  0.06       735   \n",
       "16079998  160799      4        72      A    A   1.26  0.01  0.06       735   \n",
       "16079999  160799      4        73      A    B   0.00  0.01  0.06       635   \n",
       "\n",
       "          ask_size  trade  flux  \n",
       "0                1  False   100  \n",
       "1                1  False   100  \n",
       "2                1  False  -100  \n",
       "3                1  False   100  \n",
       "4                1  False  -100  \n",
       "...            ...    ...   ...  \n",
       "16079995       261  False  -100  \n",
       "16079996       361  False   100  \n",
       "16079997       361  False   100  \n",
       "16079998       361  False   100  \n",
       "16079999       361  False     1  \n",
       "\n",
       "[16080000 rows x 12 columns]"
      ]
     },
     "execution_count": 5,
     "metadata": {},
     "output_type": "execute_result"
    }
   ],
   "source": [
    "dfx"
   ]
  },
  {
   "cell_type": "code",
   "execution_count": 6,
   "metadata": {},
   "outputs": [],
   "source": [
    "sample_obs = obs_by_cat[1][:20]"
   ]
  },
  {
   "cell_type": "code",
   "execution_count": 7,
   "metadata": {},
   "outputs": [
    {
     "data": {
      "text/plain": [
       "<Axes: >"
      ]
     },
     "execution_count": 7,
     "metadata": {},
     "output_type": "execute_result"
    },
    {
     "data": {
      "image/png": "[encoded data removed]",
      "text/plain": [
       "<Figure size 640x480 with 1 Axes>"
      ]
     },
     "metadata": {},
     "output_type": "display_data"
    }
   ],
   "source": [
    "dfx[dfx[\"obs_id\"]==sample_obs[17]][\"price\"].plot()"
   ]
  },
  {
   "cell_type": "markdown",
   "metadata": {},
   "source": [
    "Observation: on a divers profils de bid que l'on peut essayer de catégoriser -> ensuite on a des statistiques sur les types de profils observés par stock. Un certain profil observé permet de trouver le stock le plus probable en utilisant Bayes.\n",
    "\n",
    "Notamment un profil complètement à zéro. Il faudrait observer à la main les divers comportements possibles des stocks pour établir un profilage statistique par variable. Ensuite sur l'ensemble de test on calcule les mêmes profils et on calcule la probabilité de chaque stock étant donné "
   ]
  },
  {
   "cell_type": "markdown",
   "metadata": {},
   "source": [
    "## Statistics venues"
   ]
  },
  {
   "cell_type": "code",
   "execution_count": 8,
   "metadata": {},
   "outputs": [
    {
     "data": {
      "text/plain": [
       "order_id\n",
       "0     12918\n",
       "1     11234\n",
       "6     11023\n",
       "22    10941\n",
       "15    10928\n",
       "      ...  \n",
       "93        4\n",
       "94        3\n",
       "95        2\n",
       "96        1\n",
       "97        1\n",
       "Name: count, Length: 98, dtype: int64"
      ]
     },
     "execution_count": 8,
     "metadata": {},
     "output_type": "execute_result"
    }
   ],
   "source": [
    "sub_df = dfx[dfx['obs_id'].isin(obs_by_cat[2])]\n",
    "sub_df[\"order_id\"].value_counts()"
   ]
  },
  {
   "cell_type": "code",
   "execution_count": 9,
   "metadata": {},
   "outputs": [],
   "source": [
    "stocks_by_venue_ranking = {450312:[0,9,22],\n",
    "                           452103:[1,2,3,5,6,7,15],\n",
    "                           450321:[4,17,19],\n",
    "                           541023:[8],\n",
    "                           452310:[10],\n",
    "                           452013:[11,20],\n",
    "                           450213:[12,21],\n",
    "                           451203:[13,23],\n",
    "                           452301:[14],\n",
    "                           540312:[16],\n",
    "                           453021:[18]\n",
    "                           }"
   ]
  },
  {
   "cell_type": "code",
   "execution_count": 10,
   "metadata": {},
   "outputs": [
    {
     "name": "stdout",
     "output_type": "stream",
     "text": [
      "412503\n"
     ]
    }
   ],
   "source": [
    "ranking = dfx[dfx[\"obs_id\"]==0][\"venue\"].value_counts().index.to_list()\n",
    "str_ranking = [str(rank) for rank in ranking]\n",
    "print(''.join(str_ranking))"
   ]
  },
  {
   "cell_type": "markdown",
   "metadata": {},
   "source": [
    "## Order_id statistics"
   ]
  },
  {
   "cell_type": "code",
   "execution_count": 11,
   "metadata": {},
   "outputs": [
    {
     "data": {
      "text/plain": [
       "array([23, 20])"
      ]
     },
     "execution_count": 11,
     "metadata": {},
     "output_type": "execute_result"
    }
   ],
   "source": [
    "dfx[dfx[\"obs_id\"]==1540][\"order_id\"].value_counts().value_counts().head(2).values"
   ]
  },
  {
   "cell_type": "markdown",
   "metadata": {},
   "source": [
    "Idée pour les obs_id: le nombre de fois où on a deux fois le même obs_id dans une\n",
    "même série temporelle et nombre de fois où obs_id est unique -> ratio entre les deux + ranking \n",
    "-> statistiques sur le ranking et moyenne du ratio par ranking. "
   ]
  }
 ],
 "metadata": {
  "kernelspec": {
   "display_name": "env",
   "language": "python",
   "name": "python3"
  },
  "language_info": {
   "codemirror_mode": {
    "name": "ipython",
    "version": 3
   },
   "file_extension": ".py",
   "mimetype": "text/x-python",
   "name": "python",
   "nbconvert_exporter": "python",
   "pygments_lexer": "ipython3",
   "version": "3.8.10"
  }
 },
 "nbformat": 4,
 "nbformat_minor": 2
}
