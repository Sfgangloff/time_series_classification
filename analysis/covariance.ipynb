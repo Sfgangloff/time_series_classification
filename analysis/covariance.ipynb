{
 "cells": [
  {
   "cell_type": "code",
   "execution_count": 1,
   "metadata": {},
   "outputs": [],
   "source": [
    "from load_df import load_df\n",
    "df = load_df(\"data/train/x_train.csv\")\n",
    "dfy = load_df(\"data/train/y_train.csv\")"
   ]
  },
  {
   "cell_type": "code",
   "execution_count": 2,
   "metadata": {},
   "outputs": [],
   "source": [
    "new_series = dfy[\"eqt_code_cat\"].repeat(100).reset_index(drop=True)"
   ]
  },
  {
   "cell_type": "code",
   "execution_count": 3,
   "metadata": {},
   "outputs": [],
   "source": [
    "df[\"stock\"] = new_series"
   ]
  },
  {
   "cell_type": "code",
   "execution_count": 4,
   "metadata": {},
   "outputs": [],
   "source": [
    "df = df[[\"venue\",\"bid\",\"price\",\"ask\",\"ask_size\",\"bid_size\",\"flux\",\"order_id\",\"trade\",\"stock\"]]"
   ]
  },
  {
   "cell_type": "code",
   "execution_count": 5,
   "metadata": {},
   "outputs": [],
   "source": [
    "df = (df - df.mean(axis=0))/df.std(axis=0)"
   ]
  },
  {
   "cell_type": "code",
   "execution_count": 6,
   "metadata": {},
   "outputs": [
    {
     "name": "stdout",
     "output_type": "stream",
     "text": [
      "Covariance Matrix:\n",
      "             venue       bid     price       ask  ask_size  bid_size  \\\n",
      "venue     1.000000  0.008601  0.000369 -0.003311 -0.013259 -0.012918   \n",
      "bid       0.008601  1.000000  0.000208  0.001450 -0.014704 -0.012231   \n",
      "price     0.000369  0.000208  1.000000  0.042348 -0.000596 -0.000769   \n",
      "ask      -0.003311  0.001450  0.042348  1.000000 -0.013884 -0.010163   \n",
      "ask_size -0.013259 -0.014704 -0.000596 -0.013884  1.000000  0.216375   \n",
      "bid_size -0.012918 -0.012231 -0.000769 -0.010163  0.216375  1.000000   \n",
      "flux      0.000161  0.001048  0.000502 -0.000164  0.006141  0.005394   \n",
      "order_id -0.011014  0.001452  0.000985 -0.002453  0.030518  0.029703   \n",
      "trade     0.074457  0.009468 -0.000078  0.000196 -0.003843 -0.002004   \n",
      "stock     0.009186  0.000273 -0.000924 -0.022618  0.020326  0.021597   \n",
      "\n",
      "              flux  order_id     trade     stock  \n",
      "venue     0.000161 -0.011014  0.074457  0.009186  \n",
      "bid       0.001048  0.001452  0.009468  0.000273  \n",
      "price     0.000502  0.000985 -0.000078 -0.000924  \n",
      "ask      -0.000164 -0.002453  0.000196 -0.022618  \n",
      "ask_size  0.006141  0.030518 -0.003843  0.020326  \n",
      "bid_size  0.005394  0.029703 -0.002004  0.021597  \n",
      "flux      1.000000  0.094887 -0.024824 -0.000044  \n",
      "order_id  0.094887  1.000000 -0.010783  0.011477  \n",
      "trade    -0.024824 -0.010783  1.000000 -0.001302  \n",
      "stock    -0.000044  0.011477 -0.001302  1.000000  \n"
     ]
    }
   ],
   "source": [
    "covariance_matrix = df.cov()\n",
    "\n",
    "print(\"Covariance Matrix:\")\n",
    "print(covariance_matrix)"
   ]
  }
 ],
 "metadata": {
  "kernelspec": {
   "display_name": "env",
   "language": "python",
   "name": "python3"
  },
  "language_info": {
   "codemirror_mode": {
    "name": "ipython",
    "version": 3
   },
   "file_extension": ".py",
   "mimetype": "text/x-python",
   "name": "python",
   "nbconvert_exporter": "python",
   "pygments_lexer": "ipython3",
   "version": "3.8.10"
  }
 },
 "nbformat": 4,
 "nbformat_minor": 2
}
