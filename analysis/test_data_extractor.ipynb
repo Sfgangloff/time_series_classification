{
 "cells": [
  {
   "cell_type": "code",
   "execution_count": 1,
   "metadata": {},
   "outputs": [],
   "source": [
    "from analysis.data_extractor import DataExtractor"
   ]
  },
  {
   "cell_type": "code",
   "execution_count": 2,
   "metadata": {},
   "outputs": [],
   "source": [
    "data_extractor = DataExtractor()"
   ]
  },
  {
   "cell_type": "code",
   "execution_count": 3,
   "metadata": {},
   "outputs": [],
   "source": [
    "from load_df import load_df\n",
    "dfy = load_df(\"data/y_train.csv\")\n",
    "dfx = load_df(\"data/x_train.csv\")"
   ]
  },
  {
   "cell_type": "code",
   "execution_count": 4,
   "metadata": {},
   "outputs": [],
   "source": [
    "obs_by_cat = {}\n",
    "for cat in dfy[\"eqt_code_cat\"].unique():\n",
    "    obs_by_cat[cat] = dfy[dfy[\"eqt_code_cat\"]==cat][\"obs_id\"].unique()"
   ]
  },
  {
   "cell_type": "code",
   "execution_count": 19,
   "metadata": {},
   "outputs": [
    {
     "data": {
      "text/plain": [
       "venue_ranking\n",
       "450312    463\n",
       "453012    386\n",
       "405312    261\n",
       "450321    212\n",
       "453021    188\n",
       "450132    186\n",
       "435012    155\n",
       "453102    119\n",
       "403512    115\n",
       "405321    110\n",
       "Name: count, dtype: int64"
      ]
     },
     "execution_count": 19,
     "metadata": {},
     "output_type": "execute_result"
    }
   ],
   "source": [
    "sub_df = dfx[dfx['obs_id'].isin(obs_by_cat[0])]\n",
    "extract = data_extractor.global_extraction(sub_df)\n",
    "extract[\"venue_ranking\"].value_counts()[:10]"
   ]
  },
  {
   "cell_type": "code",
   "execution_count": 24,
   "metadata": {},
   "outputs": [
    {
     "data": {
      "text/plain": [
       "venue_ranking\n",
       "451032    179\n",
       "451023    168\n",
       "451203    147\n",
       "451302    137\n",
       "452103    130\n",
       "452031    126\n",
       "451230    107\n",
       "541032     91\n",
       "541203     90\n",
       "452130     87\n",
       "Name: count, dtype: int64"
      ]
     },
     "execution_count": 24,
     "metadata": {},
     "output_type": "execute_result"
    }
   ],
   "source": [
    "sub_df = dfx[dfx['obs_id'].isin(obs_by_cat[5])]\n",
    "extract = data_extractor.global_extraction(sub_df)\n",
    "extract[\"venue_ranking\"].value_counts()[:10]"
   ]
  },
  {
   "cell_type": "code",
   "execution_count": 7,
   "metadata": {},
   "outputs": [
    {
     "data": {
      "text/plain": [
       "['12', '21']"
      ]
     },
     "execution_count": 7,
     "metadata": {},
     "output_type": "execute_result"
    }
   ],
   "source": [
    "extract[(extract[\"venue_ranking\"].str.len() == 6)][\"order_ranking\"].value_counts().index.to_list()[:2]"
   ]
  }
 ],
 "metadata": {
  "kernelspec": {
   "display_name": "env",
   "language": "python",
   "name": "python3"
  },
  "language_info": {
   "codemirror_mode": {
    "name": "ipython",
    "version": 3
   },
   "file_extension": ".py",
   "mimetype": "text/x-python",
   "name": "python",
   "nbconvert_exporter": "python",
   "pygments_lexer": "ipython3",
   "version": "3.8.10"
  }
 },
 "nbformat": 4,
 "nbformat_minor": 2
}
